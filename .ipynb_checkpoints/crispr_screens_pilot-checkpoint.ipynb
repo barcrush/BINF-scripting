{
 "cells": [
  {
   "cell_type": "markdown",
   "id": "6c045429",
   "metadata": {},
   "source": [
    "# CRISPR-screens pilot analysis"
   ]
  },
  {
   "cell_type": "code",
   "execution_count": 3,
   "id": "9afa3c2d",
   "metadata": {},
   "outputs": [],
   "source": [
    "# load required libraries\n",
    "import pandas as pd\n",
    "import numpy as np\n",
    "import copy\n",
    "from scipy.stats.stats import pearsonr  \n",
    "import seaborn as sns\n",
    "import matplotlib.pyplot as plt"
   ]
  },
  {
   "cell_type": "code",
   "execution_count": 4,
   "id": "01db78c3",
   "metadata": {},
   "outputs": [
    {
     "data": {
      "text/html": [
       "<div>\n",
       "<style scoped>\n",
       "    .dataframe tbody tr th:only-of-type {\n",
       "        vertical-align: middle;\n",
       "    }\n",
       "\n",
       "    .dataframe tbody tr th {\n",
       "        vertical-align: top;\n",
       "    }\n",
       "\n",
       "    .dataframe thead th {\n",
       "        text-align: right;\n",
       "    }\n",
       "</style>\n",
       "<table border=\"1\" class=\"dataframe\">\n",
       "  <thead>\n",
       "    <tr style=\"text-align: right;\">\n",
       "      <th></th>\n",
       "      <th>Name</th>\n",
       "      <th>Gene</th>\n",
       "      <th>CTRL Replicate 1</th>\n",
       "      <th>CTRL Replicate 2</th>\n",
       "      <th>TEST Replicate 1</th>\n",
       "      <th>TEST Replicate 2</th>\n",
       "    </tr>\n",
       "  </thead>\n",
       "  <tbody>\n",
       "    <tr>\n",
       "      <th>0</th>\n",
       "      <td>None_001</td>\n",
       "      <td>None</td>\n",
       "      <td>230</td>\n",
       "      <td>220</td>\n",
       "      <td>253</td>\n",
       "      <td>212</td>\n",
       "    </tr>\n",
       "    <tr>\n",
       "      <th>1</th>\n",
       "      <td>None_002</td>\n",
       "      <td>None</td>\n",
       "      <td>278</td>\n",
       "      <td>288</td>\n",
       "      <td>264</td>\n",
       "      <td>309</td>\n",
       "    </tr>\n",
       "    <tr>\n",
       "      <th>2</th>\n",
       "      <td>None_003</td>\n",
       "      <td>None</td>\n",
       "      <td>80</td>\n",
       "      <td>70</td>\n",
       "      <td>57</td>\n",
       "      <td>59</td>\n",
       "    </tr>\n",
       "    <tr>\n",
       "      <th>3</th>\n",
       "      <td>None_004</td>\n",
       "      <td>None</td>\n",
       "      <td>208</td>\n",
       "      <td>200</td>\n",
       "      <td>212</td>\n",
       "      <td>192</td>\n",
       "    </tr>\n",
       "    <tr>\n",
       "      <th>4</th>\n",
       "      <td>None_005</td>\n",
       "      <td>None</td>\n",
       "      <td>107</td>\n",
       "      <td>108</td>\n",
       "      <td>106</td>\n",
       "      <td>115</td>\n",
       "    </tr>\n",
       "  </tbody>\n",
       "</table>\n",
       "</div>"
      ],
      "text/plain": [
       "       Name  Gene  CTRL Replicate 1  CTRL Replicate 2  TEST Replicate 1  \\\n",
       "0  None_001  None               230               220               253   \n",
       "1  None_002  None               278               288               264   \n",
       "2  None_003  None                80                70                57   \n",
       "3  None_004  None               208               200               212   \n",
       "4  None_005  None               107               108               106   \n",
       "\n",
       "   TEST Replicate 2  \n",
       "0               212  \n",
       "1               309  \n",
       "2                59  \n",
       "3               192  \n",
       "4               115  "
      ]
     },
     "execution_count": 4,
     "metadata": {},
     "output_type": "execute_result"
    }
   ],
   "source": [
    "df = pd.read_csv(\"data/DEM_rand1.readcounts\")\n",
    "df.head()"
   ]
  },
  {
   "cell_type": "code",
   "execution_count": 5,
   "id": "5fe1528a",
   "metadata": {},
   "outputs": [
    {
     "data": {
      "text/plain": [
       "12334"
      ]
     },
     "execution_count": 5,
     "metadata": {},
     "output_type": "execute_result"
    }
   ],
   "source": [
    "# rows check\n",
    "len(df)"
   ]
  },
  {
   "cell_type": "code",
   "execution_count": 6,
   "id": "b4561671",
   "metadata": {},
   "outputs": [
    {
     "data": {
      "text/plain": [
       "array(['GENE0001', 'GENE0002', 'GENE0003', ..., 'GENE1093', 'None',\n",
       "       'Safe'], dtype=object)"
      ]
     },
     "execution_count": 6,
     "metadata": {},
     "output_type": "execute_result"
    }
   ],
   "source": [
    "# unique genes in the library\n",
    "unique_genes = np.unique(df[[\"Gene\"]])\n",
    "len(unique_genes) # 1095\n",
    "unique_genes"
   ]
  },
  {
   "cell_type": "markdown",
   "id": "a9d5d13b",
   "metadata": {},
   "source": [
    "**Check correlation between replicates**"
   ]
  },
  {
   "cell_type": "code",
   "execution_count": 7,
   "id": "e7868fde",
   "metadata": {},
   "outputs": [
    {
     "name": "stdout",
     "output_type": "stream",
     "text": [
      "Correlation between control replicates is 0.9826\n",
      "Correlation between test replicates is 0.9594\n"
     ]
    }
   ],
   "source": [
    "# get column names\n",
    "cols = df.columns\n",
    "\n",
    "# control \n",
    "ctrl1 = np.array(df[cols[2]])\n",
    "ctrl2 = np.array(df[cols[3]])\n",
    "c_corr = pearsonr(ctrl1, ctrl2)[0]\n",
    "# correlation between control replicates\n",
    "print(f'Correlation between control replicates is {round(c_corr, 4)}')\n",
    "\n",
    "# test\n",
    "test1 = np.array(df[cols[4]])\n",
    "test2 = np.array(df[cols[5]])\n",
    "t_corr = pearsonr(test1, test2)[0]\n",
    "# correlation between test replicates\n",
    "print(f'Correlation between test replicates is {round(t_corr, 4)}')"
   ]
  },
  {
   "cell_type": "code",
   "execution_count": 8,
   "id": "e8e216a1",
   "metadata": {},
   "outputs": [
    {
     "data": {
      "image/png": "[encoded data removed]",
      "text/plain": [
       "<Figure size 432x288 with 2 Axes>"
      ]
     },
     "metadata": {
      "needs_background": "light"
     },
     "output_type": "display_data"
    }
   ],
   "source": [
    "# visualizing the correlations altogether\n",
    "corrMat = df.corr()\n",
    "corrPlot = sns.heatmap(corrMat, linewidths=1, square=True, cmap='Blues')\n",
    "plt.title('Correlation Matrix of Replicates')\n",
    "plt.show()"
   ]
  },
  {
   "cell_type": "markdown",
   "id": "615d07cf",
   "metadata": {},
   "source": [
    "**Normalization**"
   ]
  },
  {
   "cell_type": "code",
   "execution_count": 10,
   "id": "6fa28ab6",
   "metadata": {},
   "outputs": [],
   "source": [
    "def cpm(data_frame, control_prefix='CTRL', test_prefix='TEST'):\n",
    "    \"\"\"Calculate read counts per 10 million reads given by,\n",
    "    CPM = (C / S) * 10^7\n",
    "    \n",
    "    Where:\n",
    "    C = read counts (values) \n",
    "    S = Column-sum \n",
    "\n",
    "    @param: counts, read counts for single replicate\n",
    "    @return: n_counts, normalized counts\n",
    "    \"\"\"\n",
    "    # sum each column to get total reads per sample\n",
    "    for column in data_frame.columns:\n",
    "        if control_prefix in column or test_prefix in column:\n",
    "            scaling_factor = 1e7 / (data_frame[column].sum() / 2)\n",
    "            data_frame[column] *= scaling_factor\n",
    "    return data_frame"
   ]
  },
  {
   "cell_type": "code",
   "execution_count": 30,
   "id": "37e087f8",
   "metadata": {},
   "outputs": [
    {
     "data": {
      "text/html": [
       "<div>\n",
       "<style scoped>\n",
       "    .dataframe tbody tr th:only-of-type {\n",
       "        vertical-align: middle;\n",
       "    }\n",
       "\n",
       "    .dataframe tbody tr th {\n",
       "        vertical-align: top;\n",
       "    }\n",
       "\n",
       "    .dataframe thead th {\n",
       "        text-align: right;\n",
       "    }\n",
       "</style>\n",
       "<table border=\"1\" class=\"dataframe\">\n",
       "  <thead>\n",
       "    <tr style=\"text-align: right;\">\n",
       "      <th></th>\n",
       "      <th>Name</th>\n",
       "      <th>Gene</th>\n",
       "      <th>CTRL Replicate 1</th>\n",
       "      <th>CTRL Replicate 2</th>\n",
       "      <th>TEST Replicate 1</th>\n",
       "      <th>TEST Replicate 2</th>\n",
       "    </tr>\n",
       "  </thead>\n",
       "  <tbody>\n",
       "    <tr>\n",
       "      <th>0</th>\n",
       "      <td>None_001</td>\n",
       "      <td>None</td>\n",
       "      <td>2794.079952</td>\n",
       "      <td>2669.255035</td>\n",
       "      <td>3070.554174</td>\n",
       "      <td>2581.941632</td>\n",
       "    </tr>\n",
       "    <tr>\n",
       "      <th>1</th>\n",
       "      <td>None_002</td>\n",
       "      <td>None</td>\n",
       "      <td>3377.192290</td>\n",
       "      <td>3494.297501</td>\n",
       "      <td>3204.056530</td>\n",
       "      <td>3763.301719</td>\n",
       "    </tr>\n",
       "    <tr>\n",
       "      <th>2</th>\n",
       "      <td>None_003</td>\n",
       "      <td>None</td>\n",
       "      <td>971.853896</td>\n",
       "      <td>849.308420</td>\n",
       "      <td>691.784933</td>\n",
       "      <td>718.559228</td>\n",
       "    </tr>\n",
       "    <tr>\n",
       "      <th>3</th>\n",
       "      <td>None_004</td>\n",
       "      <td>None</td>\n",
       "      <td>2526.820130</td>\n",
       "      <td>2426.595487</td>\n",
       "      <td>2572.954486</td>\n",
       "      <td>2338.362233</td>\n",
       "    </tr>\n",
       "    <tr>\n",
       "      <th>4</th>\n",
       "      <td>None_005</td>\n",
       "      <td>None</td>\n",
       "      <td>1299.854586</td>\n",
       "      <td>1310.361563</td>\n",
       "      <td>1286.477243</td>\n",
       "      <td>1400.581546</td>\n",
       "    </tr>\n",
       "  </tbody>\n",
       "</table>\n",
       "</div>"
      ],
      "text/plain": [
       "       Name  Gene  CTRL Replicate 1  CTRL Replicate 2  TEST Replicate 1  \\\n",
       "0  None_001  None       2794.079952       2669.255035       3070.554174   \n",
       "1  None_002  None       3377.192290       3494.297501       3204.056530   \n",
       "2  None_003  None        971.853896        849.308420        691.784933   \n",
       "3  None_004  None       2526.820130       2426.595487       2572.954486   \n",
       "4  None_005  None       1299.854586       1310.361563       1286.477243   \n",
       "\n",
       "   TEST Replicate 2  \n",
       "0       2581.941632  \n",
       "1       3763.301719  \n",
       "2        718.559228  \n",
       "3       2338.362233  \n",
       "4       1400.581546  "
      ]
     },
     "execution_count": 30,
     "metadata": {},
     "output_type": "execute_result"
    }
   ],
   "source": [
    "# apply the cpm function on each replicate\n",
    "df_screens = copy.deepcopy(df)\n",
    "df_norm = cpm(df_screens)\n",
    "df_norm.head()"
   ]
  },
  {
   "cell_type": "markdown",
   "id": "2a39d828",
   "metadata": {},
   "source": [
    "The data transformation to counts per 10 million reads has a crucial effect on creating a relative measure across all genes, ensuring a unified scale that mitigates bias from technical or non-technical errors. This normalization is essential for meaningful comparisons between replicates with varying sequencing depths. Additionally, the approach helps prevent skewness and/or one-sided variance in the data. To assess reproducibility, drawing distribution curves is a valuable preliminary step, aiding in the detection of outliers during the pre-processing stage. Overall, the transformation enhances the interpretability and reliability of genomics data for downstream analyses."
   ]
  },
  {
   "cell_type": "markdown",
   "id": "58070988",
   "metadata": {},
   "source": [
    "**Average Log2FC**"
   ]
  },
  {
   "cell_type": "code",
   "execution_count": 27,
   "id": "a90d4f6f",
   "metadata": {},
   "outputs": [],
   "source": [
    "def calculate_average_log2fc(data_frame, control_prefix='CTRL', test_prefix='TEST'):\n",
    "    \"\"\"\n",
    "    Calculate the average Log2FC for each gene based on control and test columns\n",
    "\n",
    "    Parameters:\n",
    "        data_frame (DataFrame): Input df containing gene expression data\n",
    "        control_prefix (str): Prefix for control columns\n",
    "        test_prefix (str): Prefix for test columns\n",
    "\n",
    "    Returns:\n",
    "        DataFrame: df with calculated Log2FC values and average Log2FC for each gene\n",
    "    \"\"\"\n",
    "    # Identify control and test columns\n",
    "    control_columns = [col for col in data_frame.columns if control_prefix in col]\n",
    "    test_columns = [col for col in data_frame.columns if test_prefix in col]\n",
    "\n",
    "    # Calculate Log2FC for each replicate\n",
    "    for i in range(len(control_columns)):\n",
    "        data_frame[f'Log2FC_Replicate_{i+1}'] = np.log2(data_frame[test_columns[i]] / data_frame[control_columns[i]])\n",
    "\n",
    "    # Calculate average Log2FC for each replicate\n",
    "    data_frame['Average_Log2FC'] = data_frame.filter(like='Log2FC_Replicate').mean(axis=1)\n",
    "\n",
    "    return data_frame"
   ]
  },
  {
   "cell_type": "code",
   "execution_count": 32,
   "id": "f402bb45",
   "metadata": {},
   "outputs": [],
   "source": [
    "df_log2fc = calculate_average_log2fc(df_norm)"
   ]
  },
  {
   "cell_type": "code",
   "execution_count": 34,
   "id": "f13e25ae",
   "metadata": {},
   "outputs": [
    {
     "data": {
      "text/html": [
       "<div>\n",
       "<style scoped>\n",
       "    .dataframe tbody tr th:only-of-type {\n",
       "        vertical-align: middle;\n",
       "    }\n",
       "\n",
       "    .dataframe tbody tr th {\n",
       "        vertical-align: top;\n",
       "    }\n",
       "\n",
       "    .dataframe thead th {\n",
       "        text-align: right;\n",
       "    }\n",
       "</style>\n",
       "<table border=\"1\" class=\"dataframe\">\n",
       "  <thead>\n",
       "    <tr style=\"text-align: right;\">\n",
       "      <th></th>\n",
       "      <th>Name</th>\n",
       "      <th>Gene</th>\n",
       "      <th>CTRL Replicate 1</th>\n",
       "      <th>CTRL Replicate 2</th>\n",
       "      <th>TEST Replicate 1</th>\n",
       "      <th>TEST Replicate 2</th>\n",
       "      <th>Log2FC_Replicate_1</th>\n",
       "      <th>Log2FC_Replicate_2</th>\n",
       "      <th>Average_Log2FC</th>\n",
       "    </tr>\n",
       "  </thead>\n",
       "  <tbody>\n",
       "    <tr>\n",
       "      <th>0</th>\n",
       "      <td>None_001</td>\n",
       "      <td>None</td>\n",
       "      <td>2794.079952</td>\n",
       "      <td>2669.255035</td>\n",
       "      <td>3070.554174</td>\n",
       "      <td>2581.941632</td>\n",
       "      <td>0.136126</td>\n",
       "      <td>-0.047981</td>\n",
       "      <td>0.044072</td>\n",
       "    </tr>\n",
       "    <tr>\n",
       "      <th>1</th>\n",
       "      <td>None_002</td>\n",
       "      <td>None</td>\n",
       "      <td>3377.192290</td>\n",
       "      <td>3494.297501</td>\n",
       "      <td>3204.056530</td>\n",
       "      <td>3763.301719</td>\n",
       "      <td>-0.075925</td>\n",
       "      <td>0.106997</td>\n",
       "      <td>0.015536</td>\n",
       "    </tr>\n",
       "    <tr>\n",
       "      <th>2</th>\n",
       "      <td>None_003</td>\n",
       "      <td>None</td>\n",
       "      <td>971.853896</td>\n",
       "      <td>849.308420</td>\n",
       "      <td>691.784933</td>\n",
       "      <td>718.559228</td>\n",
       "      <td>-0.490416</td>\n",
       "      <td>-0.241181</td>\n",
       "      <td>-0.365799</td>\n",
       "    </tr>\n",
       "    <tr>\n",
       "      <th>3</th>\n",
       "      <td>None_004</td>\n",
       "      <td>None</td>\n",
       "      <td>2526.820130</td>\n",
       "      <td>2426.595487</td>\n",
       "      <td>2572.954486</td>\n",
       "      <td>2338.362233</td>\n",
       "      <td>0.026103</td>\n",
       "      <td>-0.053435</td>\n",
       "      <td>-0.013666</td>\n",
       "    </tr>\n",
       "    <tr>\n",
       "      <th>4</th>\n",
       "      <td>None_005</td>\n",
       "      <td>None</td>\n",
       "      <td>1299.854586</td>\n",
       "      <td>1310.361563</td>\n",
       "      <td>1286.477243</td>\n",
       "      <td>1400.581546</td>\n",
       "      <td>-0.014924</td>\n",
       "      <td>0.096061</td>\n",
       "      <td>0.040568</td>\n",
       "    </tr>\n",
       "  </tbody>\n",
       "</table>\n",
       "</div>"
      ],
      "text/plain": [
       "       Name  Gene  CTRL Replicate 1  CTRL Replicate 2  TEST Replicate 1  \\\n",
       "0  None_001  None       2794.079952       2669.255035       3070.554174   \n",
       "1  None_002  None       3377.192290       3494.297501       3204.056530   \n",
       "2  None_003  None        971.853896        849.308420        691.784933   \n",
       "3  None_004  None       2526.820130       2426.595487       2572.954486   \n",
       "4  None_005  None       1299.854586       1310.361563       1286.477243   \n",
       "\n",
       "   TEST Replicate 2  Log2FC_Replicate_1  Log2FC_Replicate_2  Average_Log2FC  \n",
       "0       2581.941632            0.136126           -0.047981        0.044072  \n",
       "1       3763.301719           -0.075925            0.106997        0.015536  \n",
       "2        718.559228           -0.490416           -0.241181       -0.365799  \n",
       "3       2338.362233            0.026103           -0.053435       -0.013666  \n",
       "4       1400.581546           -0.014924            0.096061        0.040568  "
      ]
     },
     "execution_count": 34,
     "metadata": {},
     "output_type": "execute_result"
    }
   ],
   "source": [
    "df_log2fc.head()"
   ]
  },
  {
   "cell_type": "markdown",
   "id": "f09d3356",
   "metadata": {},
   "source": [
    "The Log2FC values have been calculated for each replicate by taking the logarithm base 2 of the ratio between the expression levels in the test condition and the control condition. The positive Log2FC values indicate an increase in gene expression in the test condition compared to the control, while negative values suggest a decrease. The average Log2FC across replicates provides a consolidated measure of expression change, offering insights into the overall directional trend of gene expression alterations in response to the experimental conditions. The Log2FC metric is commonly used to assess the magnitude of expression changes on a logarithmic scale, facilitating interpretability and comparability across different genes."
   ]
  },
  {
   "cell_type": "markdown",
   "id": "fa41bd8c",
   "metadata": {},
   "source": [
    "**Plotting histogram for all Log2FC values**"
   ]
  },
  {
   "cell_type": "code",
   "execution_count": 35,
   "id": "4bb8a24b",
   "metadata": {},
   "outputs": [
    {
     "data": {
      "image/png": "[encoded data removed]",
      "text/plain": [
       "<Figure size 432x288 with 1 Axes>"
      ]
     },
     "metadata": {},
     "output_type": "display_data"
    }
   ],
   "source": [
    "sns.set(style=\"darkgrid\")\n",
    "sns.histplot(df_log2fc, x=\"Average_Log2FC\")\n",
    "plt.title('Histogram of Average Log2FC')\n",
    "plt.show()"
   ]
  },
  {
   "cell_type": "markdown",
   "id": "540a45e1",
   "metadata": {},
   "source": [
    "The histogram illustrates the distribution of average Log2FC values. It provides a quick overview of the overall expression changes, indicating whether genes are predominantly upregulated, downregulated, or exhibit minimal changes. The plot helps identify the central tendency and spread of the data, offering insights into the differential expression patterns across genes or condition.\n"
   ]
  },
  {
   "cell_type": "markdown",
   "id": "3b3df0eb",
   "metadata": {},
   "source": [
    "**A metric to compare the LFCs of all elements associated with a gene compared to the LFC of all 'Safe' elements**\n"
   ]
  },
  {
   "cell_type": "code",
   "execution_count": 50,
   "id": "4020dabc",
   "metadata": {},
   "outputs": [],
   "source": [
    "def calculate_metric(data_frame, control_prefix='CTRL', test_prefix='TEST', safe_label='Safe'):\n",
    "    \n",
    "    control_columns = [col for col in data_frame.columns if control_prefix in col]\n",
    "    test_columns = [col for col in data_frame.columns if test_prefix in col]\n",
    "\n",
    "    for control_col, test_col in zip(control_columns, test_columns):\n",
    "        data_frame[f'Log2FC_{control_col.replace(control_prefix, \"\")}'] = np.log2(data_frame[test_col] / data_frame[control_col])\n",
    "\n",
    "    data_frame['Average_Log2FC'] = data_frame.filter(like='Log2FC').mean(axis=1)\n",
    "\n",
    "    # Calculate average Log2FC for 'Safe' elements\n",
    "    safe_mask = data_frame['Gene'] == safe_label\n",
    "    avg_log2fc_safe = data_frame.loc[safe_mask, 'Average_Log2FC'].mean()\n",
    "\n",
    "    # Calculate the metric: Difference between gene and 'Safe'\n",
    "    data_frame['Metric'] = data_frame['Average_Log2FC'] - avg_log2fc_safe\n",
    "\n",
    "    return data_frame[['Name', 'Gene', 'Average_Log2FC', 'Metric']]"
   ]
  },
  {
   "cell_type": "code",
   "execution_count": 36,
   "id": "c89545cf",
   "metadata": {},
   "outputs": [],
   "source": [
    "def calculate_relative_log2fc(data_frame, gene_column='Gene', log2fc_column='Average_Log2FC', safe_label='Safe'):\n",
    "    \"\"\"\n",
    "    Calculate the relative Log2FC for each gene compared to the Log2FC of 'Safe' elements\n",
    "\n",
    "    Parameters:\n",
    "        data_frame (pd.DataFrame): Input df containing gene expression data\n",
    "        gene_column (str): gene labels\n",
    "        log2fc_column (str):  averageLog2FC values\n",
    "        safe_label (str): Label indicating 'Safe' elements\n",
    "\n",
    "    Returns:\n",
    "        DataFrame: Updated df with the 'Relative_Log2FC' column\n",
    "    \"\"\"\n",
    "    # Calculate average Log2FC for 'Safe' elements\n",
    "    avg_log2fc_safe = data_frame[data_frame[gene_column] == safe_label][log2fc_column].mean()\n",
    "\n",
    "    # Calculate the relative Log2FC for each gene\n",
    "    data_frame['Relative_Log2FC'] = data_frame[log2fc_column] - avg_log2fc_safe\n",
    "\n",
    "    return data_frame"
   ]
  },
  {
   "cell_type": "code",
   "execution_count": 37,
   "id": "750ee1c3",
   "metadata": {},
   "outputs": [],
   "source": [
    "df_relativeL2FC = calculate_relative_log2fc(df_log2fc)"
   ]
  },
  {
   "cell_type": "code",
   "execution_count": 38,
   "id": "fba99c46",
   "metadata": {},
   "outputs": [
    {
     "data": {
      "text/html": [
       "<div>\n",
       "<style scoped>\n",
       "    .dataframe tbody tr th:only-of-type {\n",
       "        vertical-align: middle;\n",
       "    }\n",
       "\n",
       "    .dataframe tbody tr th {\n",
       "        vertical-align: top;\n",
       "    }\n",
       "\n",
       "    .dataframe thead th {\n",
       "        text-align: right;\n",
       "    }\n",
       "</style>\n",
       "<table border=\"1\" class=\"dataframe\">\n",
       "  <thead>\n",
       "    <tr style=\"text-align: right;\">\n",
       "      <th></th>\n",
       "      <th>Name</th>\n",
       "      <th>Gene</th>\n",
       "      <th>CTRL Replicate 1</th>\n",
       "      <th>CTRL Replicate 2</th>\n",
       "      <th>TEST Replicate 1</th>\n",
       "      <th>TEST Replicate 2</th>\n",
       "      <th>Log2FC_Replicate_1</th>\n",
       "      <th>Log2FC_Replicate_2</th>\n",
       "      <th>Average_Log2FC</th>\n",
       "      <th>Relative_Log2FC</th>\n",
       "    </tr>\n",
       "  </thead>\n",
       "  <tbody>\n",
       "    <tr>\n",
       "      <th>0</th>\n",
       "      <td>None_001</td>\n",
       "      <td>None</td>\n",
       "      <td>2794.079952</td>\n",
       "      <td>2669.255035</td>\n",
       "      <td>3070.554174</td>\n",
       "      <td>2581.941632</td>\n",
       "      <td>0.136126</td>\n",
       "      <td>-0.047981</td>\n",
       "      <td>0.044072</td>\n",
       "      <td>0.095830</td>\n",
       "    </tr>\n",
       "    <tr>\n",
       "      <th>1</th>\n",
       "      <td>None_002</td>\n",
       "      <td>None</td>\n",
       "      <td>3377.192290</td>\n",
       "      <td>3494.297501</td>\n",
       "      <td>3204.056530</td>\n",
       "      <td>3763.301719</td>\n",
       "      <td>-0.075925</td>\n",
       "      <td>0.106997</td>\n",
       "      <td>0.015536</td>\n",
       "      <td>0.067293</td>\n",
       "    </tr>\n",
       "    <tr>\n",
       "      <th>2</th>\n",
       "      <td>None_003</td>\n",
       "      <td>None</td>\n",
       "      <td>971.853896</td>\n",
       "      <td>849.308420</td>\n",
       "      <td>691.784933</td>\n",
       "      <td>718.559228</td>\n",
       "      <td>-0.490416</td>\n",
       "      <td>-0.241181</td>\n",
       "      <td>-0.365799</td>\n",
       "      <td>-0.314042</td>\n",
       "    </tr>\n",
       "    <tr>\n",
       "      <th>3</th>\n",
       "      <td>None_004</td>\n",
       "      <td>None</td>\n",
       "      <td>2526.820130</td>\n",
       "      <td>2426.595487</td>\n",
       "      <td>2572.954486</td>\n",
       "      <td>2338.362233</td>\n",
       "      <td>0.026103</td>\n",
       "      <td>-0.053435</td>\n",
       "      <td>-0.013666</td>\n",
       "      <td>0.038091</td>\n",
       "    </tr>\n",
       "    <tr>\n",
       "      <th>4</th>\n",
       "      <td>None_005</td>\n",
       "      <td>None</td>\n",
       "      <td>1299.854586</td>\n",
       "      <td>1310.361563</td>\n",
       "      <td>1286.477243</td>\n",
       "      <td>1400.581546</td>\n",
       "      <td>-0.014924</td>\n",
       "      <td>0.096061</td>\n",
       "      <td>0.040568</td>\n",
       "      <td>0.092325</td>\n",
       "    </tr>\n",
       "  </tbody>\n",
       "</table>\n",
       "</div>"
      ],
      "text/plain": [
       "       Name  Gene  CTRL Replicate 1  CTRL Replicate 2  TEST Replicate 1  \\\n",
       "0  None_001  None       2794.079952       2669.255035       3070.554174   \n",
       "1  None_002  None       3377.192290       3494.297501       3204.056530   \n",
       "2  None_003  None        971.853896        849.308420        691.784933   \n",
       "3  None_004  None       2526.820130       2426.595487       2572.954486   \n",
       "4  None_005  None       1299.854586       1310.361563       1286.477243   \n",
       "\n",
       "   TEST Replicate 2  Log2FC_Replicate_1  Log2FC_Replicate_2  Average_Log2FC  \\\n",
       "0       2581.941632            0.136126           -0.047981        0.044072   \n",
       "1       3763.301719           -0.075925            0.106997        0.015536   \n",
       "2        718.559228           -0.490416           -0.241181       -0.365799   \n",
       "3       2338.362233            0.026103           -0.053435       -0.013666   \n",
       "4       1400.581546           -0.014924            0.096061        0.040568   \n",
       "\n",
       "   Relative_Log2FC  \n",
       "0         0.095830  \n",
       "1         0.067293  \n",
       "2        -0.314042  \n",
       "3         0.038091  \n",
       "4         0.092325  "
      ]
     },
     "execution_count": 38,
     "metadata": {},
     "output_type": "execute_result"
    }
   ],
   "source": [
    "df_relativeL2FC.head()"
   ]
  },
  {
   "cell_type": "markdown",
   "id": "b5aa17b4",
   "metadata": {},
   "source": [
    "The Relative Log2FC metric is designed to provide a comparative measure of expression changes for each gene in relation to a baseline represented by the 'Safe' elements. By calculating the difference between the Log2FC of each gene and the average Log2FC of the 'Safe' elements, the metric offers insights into how individual genes deviate from the overall expression changes observed in the 'Safe' elements. A positive value indicates that a gene has, on average, higher expression changes compared to the 'Safe' elements, while a negative value suggests lower expression changes. This metric helps identify genes with distinctive expression patterns relative to the chosen baseline, aiding in the interpretation of their biological significance in the context of the experimental conditions."
   ]
  },
  {
   "cell_type": "code",
   "execution_count": 39,
   "id": "7d7f1948",
   "metadata": {},
   "outputs": [],
   "source": [
    "data = copy.deepcopy(df_relativeL2FC)"
   ]
  },
  {
   "cell_type": "code",
   "execution_count": 43,
   "id": "a6d75a4c",
   "metadata": {},
   "outputs": [
    {
     "data": {
      "text/html": [
       "<div>\n",
       "<style scoped>\n",
       "    .dataframe tbody tr th:only-of-type {\n",
       "        vertical-align: middle;\n",
       "    }\n",
       "\n",
       "    .dataframe tbody tr th {\n",
       "        vertical-align: top;\n",
       "    }\n",
       "\n",
       "    .dataframe thead th {\n",
       "        text-align: right;\n",
       "    }\n",
       "</style>\n",
       "<table border=\"1\" class=\"dataframe\">\n",
       "  <thead>\n",
       "    <tr style=\"text-align: right;\">\n",
       "      <th></th>\n",
       "      <th>Gene</th>\n",
       "      <th>Average_Log2FC</th>\n",
       "      <th>Relative_Log2FC</th>\n",
       "    </tr>\n",
       "  </thead>\n",
       "  <tbody>\n",
       "    <tr>\n",
       "      <th>11908</th>\n",
       "      <td>GENE1051</td>\n",
       "      <td>3.698199</td>\n",
       "      <td>3.749956</td>\n",
       "    </tr>\n",
       "    <tr>\n",
       "      <th>6562</th>\n",
       "      <td>GENE0512</td>\n",
       "      <td>3.247967</td>\n",
       "      <td>3.299724</td>\n",
       "    </tr>\n",
       "    <tr>\n",
       "      <th>8972</th>\n",
       "      <td>GENE0755</td>\n",
       "      <td>3.193774</td>\n",
       "      <td>3.245531</td>\n",
       "    </tr>\n",
       "    <tr>\n",
       "      <th>7177</th>\n",
       "      <td>GENE0574</td>\n",
       "      <td>2.648431</td>\n",
       "      <td>2.700188</td>\n",
       "    </tr>\n",
       "    <tr>\n",
       "      <th>3832</th>\n",
       "      <td>GENE0235</td>\n",
       "      <td>2.633558</td>\n",
       "      <td>2.685315</td>\n",
       "    </tr>\n",
       "  </tbody>\n",
       "</table>\n",
       "</div>"
      ],
      "text/plain": [
       "           Gene  Average_Log2FC  Relative_Log2FC\n",
       "11908  GENE1051        3.698199         3.749956\n",
       "6562   GENE0512        3.247967         3.299724\n",
       "8972   GENE0755        3.193774         3.245531\n",
       "7177   GENE0574        2.648431         2.700188\n",
       "3832   GENE0235        2.633558         2.685315"
      ]
     },
     "execution_count": 43,
     "metadata": {},
     "output_type": "execute_result"
    }
   ],
   "source": [
    "# Comparing the top five genes with the most negative LFC compared to \"Safe\" \n",
    "# Exclude the 'Safe' element from consideration\n",
    "top_negative_genes = data[data['Gene'] != 'Safe'].nlargest(5, 'Average_Log2FC')\n",
    "top_negative_genes[['Gene', 'Average_Log2FC', 'Relative_Log2FC']]"
   ]
  },
  {
   "cell_type": "code",
   "execution_count": 42,
   "id": "f1b6b556",
   "metadata": {},
   "outputs": [
    {
     "data": {
      "text/html": [
       "<div>\n",
       "<style scoped>\n",
       "    .dataframe tbody tr th:only-of-type {\n",
       "        vertical-align: middle;\n",
       "    }\n",
       "\n",
       "    .dataframe tbody tr th {\n",
       "        vertical-align: top;\n",
       "    }\n",
       "\n",
       "    .dataframe thead th {\n",
       "        text-align: right;\n",
       "    }\n",
       "</style>\n",
       "<table border=\"1\" class=\"dataframe\">\n",
       "  <thead>\n",
       "    <tr style=\"text-align: right;\">\n",
       "      <th></th>\n",
       "      <th>Gene</th>\n",
       "      <th>Average_Log2FC</th>\n",
       "      <th>Relative_Log2FC</th>\n",
       "    </tr>\n",
       "  </thead>\n",
       "  <tbody>\n",
       "    <tr>\n",
       "      <th>1834</th>\n",
       "      <td>GENE0034</td>\n",
       "      <td>-5.760358</td>\n",
       "      <td>-5.708601</td>\n",
       "    </tr>\n",
       "    <tr>\n",
       "      <th>5521</th>\n",
       "      <td>GENE0406</td>\n",
       "      <td>-4.239630</td>\n",
       "      <td>-4.187873</td>\n",
       "    </tr>\n",
       "    <tr>\n",
       "      <th>11706</th>\n",
       "      <td>GENE1030</td>\n",
       "      <td>-4.147564</td>\n",
       "      <td>-4.095807</td>\n",
       "    </tr>\n",
       "    <tr>\n",
       "      <th>12072</th>\n",
       "      <td>GENE1067</td>\n",
       "      <td>-4.140451</td>\n",
       "      <td>-4.088693</td>\n",
       "    </tr>\n",
       "    <tr>\n",
       "      <th>8244</th>\n",
       "      <td>GENE0681</td>\n",
       "      <td>-4.126654</td>\n",
       "      <td>-4.074897</td>\n",
       "    </tr>\n",
       "  </tbody>\n",
       "</table>\n",
       "</div>"
      ],
      "text/plain": [
       "           Gene  Average_Log2FC  Relative_Log2FC\n",
       "1834   GENE0034       -5.760358        -5.708601\n",
       "5521   GENE0406       -4.239630        -4.187873\n",
       "11706  GENE1030       -4.147564        -4.095807\n",
       "12072  GENE1067       -4.140451        -4.088693\n",
       "8244   GENE0681       -4.126654        -4.074897"
      ]
     },
     "execution_count": 42,
     "metadata": {},
     "output_type": "execute_result"
    }
   ],
   "source": [
    "# comparing the top five genes with the most positive LFC compared to \"Safe\"\n",
    "top_positive_genes = data[data['Gene'] != 'Safe'].nsmallest(5, 'Average_Log2FC')\n",
    "top_positive_genes[['Gene', 'Average_Log2FC', 'Relative_Log2FC']]"
   ]
  },
  {
   "cell_type": "markdown",
   "id": "9dbd1de8",
   "metadata": {},
   "source": [
    "**Verifying the findings by plotting the L2FCs of your selected genes against the same number of random \"Safe\" L2FCs**"
   ]
  },
  {
   "cell_type": "code",
   "execution_count": 45,
   "id": "74bcb196",
   "metadata": {},
   "outputs": [],
   "source": [
    "# Generate random \"Safe\" Log2FCs for comparison\n",
    "random_safe_log2fc = np.random.normal(0, 0.5, 5)"
   ]
  },
  {
   "cell_type": "code",
   "execution_count": 49,
   "id": "470c5bfb",
   "metadata": {},
   "outputs": [
    {
     "data": {
      "image/png": "[encoded data removed]",
      "text/plain": [
       "<Figure size 864x432 with 2 Axes>"
      ]
     },
     "metadata": {},
     "output_type": "display_data"
    }
   ],
   "source": [
    "# Generate random \"Safe\" Log2FCs for comparison\n",
    "random_safe_log2fc = np.random.normal(0, 0.5, len(top_negative_genes) + len(top_positive_genes))\n",
    "\n",
    "# Plot separate scatter plots for positive and negative genes\n",
    "plt.figure(figsize=(12, 6))\n",
    "\n",
    "# Scatter plot for top negative genes\n",
    "plt.subplot(1, 2, 1)\n",
    "plt.scatter(random_safe_log2fc[:len(top_negative_genes)], range(len(top_negative_genes)), label='Random \"Safe\" Log2FCs', color='gray')\n",
    "plt.scatter(top_negative_genes['Relative_Log2FC'], range(len(top_negative_genes)), label='Top Negative Genes', color='blue')\n",
    "plt.title('Top Negative Genes vs Random \"Safe\" Log2FCs')\n",
    "plt.xlabel('Relative Log2FC')\n",
    "plt.ylabel('Gene Index')\n",
    "plt.legend()\n",
    "\n",
    "# Scatter plot for top positive genes\n",
    "plt.subplot(1, 2, 2)\n",
    "plt.scatter(random_safe_log2fc[len(top_negative_genes):], range(len(top_positive_genes)), label='Random \"Safe\" Log2FCs', color='gray')\n",
    "plt.scatter(top_positive_genes['Relative_Log2FC'], range(len(top_positive_genes)), label='Top Positive Genes', color='red')\n",
    "plt.title('Top Positive Genes vs Random \"Safe\" Log2FCs')\n",
    "plt.xlabel('Relative Log2FC')\n",
    "plt.ylabel('Gene Index')\n",
    "plt.legend()\n",
    "\n",
    "plt.tight_layout()\n",
    "plt.show()"
   ]
  },
  {
   "cell_type": "markdown",
   "id": "080ece89",
   "metadata": {},
   "source": [
    "The scatter plots effectively illustrate the distribution and relationships of Log2FC values, providing insights into the expression changes of selected genes compared to random \"Safe\" Log2FCs. In the left subplot, the blue points represent the Log2FCs of the top negative genes, while the right subplot displays the Log2FCs of the top positive genes in red. The gray points represent randomly generated \"Safe\" Log2FCs for reference.\n",
    "\n",
    "Observing the scatter plots reveals how the Log2FCs of the selected genes align with or deviate from the distribution of \"Safe\" Log2FCs. A clear separation or clustering of points for the selected genes compared to the random distribution would suggest distinct expression patterns. This visual analysis enhances the interpretation of the selected genes' significance in relation to the overall expression changes observed in the dataset.\n"
   ]
  }
 ],
 "metadata": {
  "kernelspec": {
   "display_name": "Python 3 (ipykernel)",
   "language": "python",
   "name": "python3"
  },
  "language_info": {
   "codemirror_mode": {
    "name": "ipython",
    "version": 3
   },
   "file_extension": ".py",
   "mimetype": "text/x-python",
   "name": "python",
   "nbconvert_exporter": "python",
   "pygments_lexer": "ipython3",
   "version": "3.9.12"
  }
 },
 "nbformat": 4,
 "nbformat_minor": 5
}
